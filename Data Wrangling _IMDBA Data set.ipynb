{
 "cells": [
  {
   "cell_type": "markdown",
   "id": "cef8ebec",
   "metadata": {},
   "source": [
    "# Problem Satement\n",
    "### You have been hired by a rookie movie producer to help him decide what type of movies to produce and which actors to cast. You have to back your recommendations based on thorough analysis of the data he shared with you which has the list of 3000 movies and the corresponding details.\n",
    "### As a data scientist, you have to first explore the data and check its sanity.\n",
    "### Further, you have to answer the following questions:\n",
    "### 1. Which movie made the highest profit? Who were its producer and director? Identify the actors in that film.\n",
    "### 2. This data has information about movies made in different languages. Which language has the highest average ROI (return on investment)?\n",
    "### 3. Find out the unique genres of movies in this dataset.\n",
    "### 4. Make a table of all the producers and directors of each movie. Find the top 3 producers who have produced movies with the highest average RoI?\n",
    "### 5. Which actor has acted in the most number of movies? Deep dive into the movies, genres and profits corresponding to this actor.\n",
    "### 6. Top 3 directors prefer which actors the most?\n",
    "\n",
    "\n",
    "\n",
    "\n",
    "\n",
    "\n"
   ]
  },
  {
   "cell_type": "code",
   "execution_count": 2,
   "id": "cf602a1b",
   "metadata": {},
   "outputs": [],
   "source": [
    "import pandas as pd\n",
    "import numpy as np"
   ]
  },
  {
   "cell_type": "code",
   "execution_count": 5,
   "id": "8fe12063",
   "metadata": {},
   "outputs": [
    {
     "data": {
      "text/plain": [
       "nan"
      ]
     },
     "execution_count": 5,
     "metadata": {},
     "output_type": "execute_result"
    }
   ],
   "source": [
    "p = np.NaN\n",
    "p"
   ]
  }
 ],
 "metadata": {
  "kernelspec": {
   "display_name": "Python 3",
   "language": "python",
   "name": "python3"
  },
  "language_info": {
   "codemirror_mode": {
    "name": "ipython",
    "version": 3
   },
   "file_extension": ".py",
   "mimetype": "text/x-python",
   "name": "python",
   "nbconvert_exporter": "python",
   "pygments_lexer": "ipython3",
   "version": "3.8.8"
  }
 },
 "nbformat": 4,
 "nbformat_minor": 5
}
